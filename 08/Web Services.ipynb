{
 "cells": [
  {
   "cell_type": "markdown",
   "id": "colonial-comparison",
   "metadata": {},
   "source": [
    "### Web APIs\n",
    "- Learn what an API is and when you should use one.\n",
    "- Learn how to build a web API that returns data to its users.\n",
    "- Learn some principles of good API design\n",
    "\n"
   ]
  },
  {
   "cell_type": "markdown",
   "id": "tropical-occasion",
   "metadata": {},
   "source": [
    "#### Installing flask\n",
    "- Anaconda comes with Flask\n",
    "- ELse -> pip install flask"
   ]
  },
  {
   "cell_type": "markdown",
   "id": "constitutional-russia",
   "metadata": {},
   "source": [
    "#### Creating a Basic Flask Application\n",
    "- Flask is a web framework for Python\n",
    "- It provides functionality for building web applications\n",
    "- For managing HTTP requests and rendering templates"
   ]
  },
  {
   "cell_type": "markdown",
   "id": "rough-cleanup",
   "metadata": {},
   "source": [
    "#### Why Flask?\n",
    "\n",
    "- Python has a number of web frameworks that can be used to create web apps and APIs. \n",
    "- The most well-known is Django, a framework that has a set project structure and which includes many built-in tools. This can save time and effort for experienced programmers, but can be overwhelming. Flask applications tend to be written on a blank canvas, so to speak, and so are more suited to a contained application such as our prototype API."
   ]
  },
  {
   "cell_type": "raw",
   "id": "90c79315",
   "metadata": {},
   "source": [
    "import flask\n",
    "import pandas as pd\n",
    "\n",
    "app = flask.Flask('service')\n",
    "\n",
    "\n",
    "@app.route('/', methods=['GET'])\n",
    "def home():\n",
    "    return \"<h1>Distant Reading Archive</h1><p>This site is a prototype API for distant reading of science fiction novels.</p>\"\n",
    "\n",
    "\n",
    "\n",
    "app.run()\n"
   ]
  },
  {
   "cell_type": "markdown",
   "id": "b19757a1",
   "metadata": {},
   "source": [
    "#### Invoke web service using Ajax"
   ]
  },
  {
   "cell_type": "raw",
   "id": "1b404a5d",
   "metadata": {},
   "source": [
    "$.ajax({\n",
    "    url : 'http://127.0.0.1:5000/home',          \n",
    "    method: 'GET',\n",
    "    type: 'json',\n",
    "    data: {'id':1},\n",
    "    success: function (response) {\n",
    "        data = response;\n",
    "    },\n",
    "    error: function (error) {\n",
    "        console.log(error);\n",
    "    }\n",
    "});"
   ]
  },
  {
   "cell_type": "code",
   "execution_count": null,
   "id": "617e57a8",
   "metadata": {},
   "outputs": [],
   "source": []
  }
 ],
 "metadata": {
  "kernelspec": {
   "display_name": "Python 3 (ipykernel)",
   "language": "python",
   "name": "python3"
  },
  "language_info": {
   "codemirror_mode": {
    "name": "ipython",
    "version": 3
   },
   "file_extension": ".py",
   "mimetype": "text/x-python",
   "name": "python",
   "nbconvert_exporter": "python",
   "pygments_lexer": "ipython3",
   "version": "3.9.7"
  }
 },
 "nbformat": 4,
 "nbformat_minor": 5
}
