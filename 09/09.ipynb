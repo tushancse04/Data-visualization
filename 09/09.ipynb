{
 "cells": [
  {
   "cell_type": "markdown",
   "id": "7e89bc55",
   "metadata": {},
   "source": [
    "### Milestone 1\n",
    "Due: 03/11/2022\n",
    "\n",
    "Deliverables:\n",
    "- Load your data into a dataframe\n",
    "- Write a webservice that returns the data from the dataframe\n",
    "- Invoke the webservice to receive the data from JS\n",
    "- Show the data in a d3 chart in your dashboard\n"
   ]
  },
  {
   "cell_type": "markdown",
   "id": "8e1053f7",
   "metadata": {},
   "source": [
    "### Sample dashboards\n",
    "- https://www.idashboards.com/dashboard-examples/it-dashboard-example-tech/\n",
    "- https://www.idashboards.com/dashboard-examples/marketing-dashboard/\n",
    "- https://www.idashboards.com/dashboard-examples/finance-ar-and-ap/\n",
    "- https://www.idashboards.com/dashboard-examples/k12-dashboard-district/"
   ]
  },
  {
   "cell_type": "markdown",
   "id": "4123a88b",
   "metadata": {},
   "source": [
    "### Remove domain path\n"
   ]
  },
  {
   "cell_type": "raw",
   "id": "e0656ae1",
   "metadata": {},
   "source": [
    "xaxiscontainer.selectAll('.domain, .tick line').remove()"
   ]
  },
  {
   "cell_type": "markdown",
   "id": "f0c26c57",
   "metadata": {},
   "source": [
    "### Tick format"
   ]
  },
  {
   "cell_type": "raw",
   "id": "bcc683f6",
   "metadata": {},
   "source": [
    "axiscontainer = g.append('g');\n",
    "xaxiscontainer = axiscontainer.append('g');\n",
    "axisGenerator = d3.axisLeft(yscale2);\n",
    "axisGenerator.ticks(6);\n",
    "xaxiscontainer.append('g').call(axisGenerator);"
   ]
  },
  {
   "cell_type": "raw",
   "id": "b32dfe19",
   "metadata": {},
   "source": [
    "axisGenerator.ticks(6);\n",
    "axisGenerator.tickFormat(d3.format(\".2s\"));\n",
    "axisGenerator.tickSize(20);"
   ]
  },
  {
   "cell_type": "markdown",
   "id": "e783d3ef",
   "metadata": {},
   "source": [
    "### Adding title"
   ]
  },
  {
   "cell_type": "raw",
   "id": "594e9a62",
   "metadata": {},
   "source": [
    "axiscontainer.append('text').text('Country vs Population').style('font-size',30).attr('y',-10).attr('x',200)"
   ]
  },
  {
   "cell_type": "markdown",
   "id": "a0e50c60",
   "metadata": {},
   "source": [
    "### Scatter plot"
   ]
  },
  {
   "cell_type": "code",
   "execution_count": null,
   "id": "2daaff13",
   "metadata": {},
   "outputs": [],
   "source": []
  }
 ],
 "metadata": {
  "kernelspec": {
   "display_name": "Python 3 (ipykernel)",
   "language": "python",
   "name": "python3"
  },
  "language_info": {
   "codemirror_mode": {
    "name": "ipython",
    "version": 3
   },
   "file_extension": ".py",
   "mimetype": "text/x-python",
   "name": "python",
   "nbconvert_exporter": "python",
   "pygments_lexer": "ipython3",
   "version": "3.9.7"
  }
 },
 "nbformat": 4,
 "nbformat_minor": 5
}
